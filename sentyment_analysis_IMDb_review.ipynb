{
  "nbformat": 4,
  "nbformat_minor": 0,
  "metadata": {
    "colab": {
      "provenance": [],
      "mount_file_id": "https://github.com/FrancescaMoi/SentimentAnalysis/blob/main/sentyment_analysis_IMDb_review.ipynb",
      "authorship_tag": "ABX9TyMOvstQ+bVqmzp+JcEhJkbI",
      "include_colab_link": true
    },
    "kernelspec": {
      "name": "python3",
      "display_name": "Python 3"
    },
    "language_info": {
      "name": "python"
    },
    "gpuClass": "standard"
  },
  "cells": [
    {
      "cell_type": "markdown",
      "metadata": {
        "id": "view-in-github",
        "colab_type": "text"
      },
      "source": [
        "<a href=\"https://colab.research.google.com/github/FrancescaMoi/SentimentAnalysis/blob/main/sentyment_analysis_IMDb_review.ipynb\" target=\"_parent\"><img src=\"https://colab.research.google.com/assets/colab-badge.svg\" alt=\"Open In Colab\"/></a>"
      ]
    },
    {
      "cell_type": "markdown",
      "source": [
        "# **Sentiment analysis**\n",
        "La **sentiment analysis** è una tecnica di *Natural Language Processing* che consiste nell'identificare l'intenzione/sentimento che sta dietro un testo.\n",
        "\n",
        "Questo tipo di analisi viene spesso eseguita sui feedback dei clienti per aiutare le aziende a monitorare il grado di apprezzamento del proprio prodotto e comprendere le esigenze dei clienti."
      ],
      "metadata": {
        "id": "EvBLCEs7c5L0"
      }
    },
    {
      "cell_type": "markdown",
      "source": [
        "## **Caricamento del dataset**\n",
        "\n",
        "Il dataset utilizzato consiste in un CSV contenente un elenco di 50K recensioni di film messe a disposizione dalla piattaforma [*kaggle*](https://www.kaggle.com/), precedentemente etichettate come positive o negative. Il CSV può essere scaricato al seguente link:\n",
        "[*IMDb dataset*](https://www.kaggle.com/datasets/lakshmi25npathi/imdb-dataset-of-50k-movie-reviews).\n",
        "\n",
        "Una volta scaricato il CSV, carichiamo in memoria il dataset sfruttando le funzionalità della libreria [pandas](https://pandas.pydata.org/docs/index.html):"
      ],
      "metadata": {
        "id": "1nUViDj3tQB-"
      }
    },
    {
      "cell_type": "code",
      "execution_count": null,
      "metadata": {
        "id": "eqv0xcXhtKAn"
      },
      "outputs": [],
      "source": [
        "import pandas as pd\n",
        "\n",
        "df = pd.read_csv(\"drive/MyDrive/Colab Notebooks/PilloleIA/data/IMDB Dataset.csv\")"
      ]
    },
    {
      "cell_type": "markdown",
      "source": [
        "### **Colonne del dataset**\n",
        "La colonna *review* contiene l'informazione testuale di input e la colonna *sentiment* contiene la label che vogliamo ottenere in output. L'obiettivo del classificatore che andremo a creare è quella di predire la label *sentiment* data in input il testo di una *review*.\n",
        "\n",
        "Vediamo come si presenta il dataset prendendo le prime 5 righe:"
      ],
      "metadata": {
        "id": "7bR-ondXi2BJ"
      }
    },
    {
      "cell_type": "code",
      "source": [
        "df.head()"
      ],
      "metadata": {
        "id": "k4kBZcccj0YJ",
        "outputId": "99e490c9-4081-49a8-8a2b-cde57befa7e4",
        "colab": {
          "base_uri": "https://localhost:8080/",
          "height": 206
        }
      },
      "execution_count": null,
      "outputs": [
        {
          "output_type": "execute_result",
          "data": {
            "text/plain": [
              "                                              review sentiment\n",
              "0  One of the other reviewers has mentioned that ...  positive\n",
              "1  A wonderful little production. <br /><br />The...  positive\n",
              "2  I thought this was a wonderful way to spend ti...  positive\n",
              "3  Basically there's a family where a little boy ...  negative\n",
              "4  Petter Mattei's \"Love in the Time of Money\" is...  positive"
            ],
            "text/html": [
              "\n",
              "  <div id=\"df-7170d970-82c3-4c2e-9f82-cbd33758c8a4\">\n",
              "    <div class=\"colab-df-container\">\n",
              "      <div>\n",
              "<style scoped>\n",
              "    .dataframe tbody tr th:only-of-type {\n",
              "        vertical-align: middle;\n",
              "    }\n",
              "\n",
              "    .dataframe tbody tr th {\n",
              "        vertical-align: top;\n",
              "    }\n",
              "\n",
              "    .dataframe thead th {\n",
              "        text-align: right;\n",
              "    }\n",
              "</style>\n",
              "<table border=\"1\" class=\"dataframe\">\n",
              "  <thead>\n",
              "    <tr style=\"text-align: right;\">\n",
              "      <th></th>\n",
              "      <th>review</th>\n",
              "      <th>sentiment</th>\n",
              "    </tr>\n",
              "  </thead>\n",
              "  <tbody>\n",
              "    <tr>\n",
              "      <th>0</th>\n",
              "      <td>One of the other reviewers has mentioned that ...</td>\n",
              "      <td>positive</td>\n",
              "    </tr>\n",
              "    <tr>\n",
              "      <th>1</th>\n",
              "      <td>A wonderful little production. &lt;br /&gt;&lt;br /&gt;The...</td>\n",
              "      <td>positive</td>\n",
              "    </tr>\n",
              "    <tr>\n",
              "      <th>2</th>\n",
              "      <td>I thought this was a wonderful way to spend ti...</td>\n",
              "      <td>positive</td>\n",
              "    </tr>\n",
              "    <tr>\n",
              "      <th>3</th>\n",
              "      <td>Basically there's a family where a little boy ...</td>\n",
              "      <td>negative</td>\n",
              "    </tr>\n",
              "    <tr>\n",
              "      <th>4</th>\n",
              "      <td>Petter Mattei's \"Love in the Time of Money\" is...</td>\n",
              "      <td>positive</td>\n",
              "    </tr>\n",
              "  </tbody>\n",
              "</table>\n",
              "</div>\n",
              "      <button class=\"colab-df-convert\" onclick=\"convertToInteractive('df-7170d970-82c3-4c2e-9f82-cbd33758c8a4')\"\n",
              "              title=\"Convert this dataframe to an interactive table.\"\n",
              "              style=\"display:none;\">\n",
              "        \n",
              "  <svg xmlns=\"http://www.w3.org/2000/svg\" height=\"24px\"viewBox=\"0 0 24 24\"\n",
              "       width=\"24px\">\n",
              "    <path d=\"M0 0h24v24H0V0z\" fill=\"none\"/>\n",
              "    <path d=\"M18.56 5.44l.94 2.06.94-2.06 2.06-.94-2.06-.94-.94-2.06-.94 2.06-2.06.94zm-11 1L8.5 8.5l.94-2.06 2.06-.94-2.06-.94L8.5 2.5l-.94 2.06-2.06.94zm10 10l.94 2.06.94-2.06 2.06-.94-2.06-.94-.94-2.06-.94 2.06-2.06.94z\"/><path d=\"M17.41 7.96l-1.37-1.37c-.4-.4-.92-.59-1.43-.59-.52 0-1.04.2-1.43.59L10.3 9.45l-7.72 7.72c-.78.78-.78 2.05 0 2.83L4 21.41c.39.39.9.59 1.41.59.51 0 1.02-.2 1.41-.59l7.78-7.78 2.81-2.81c.8-.78.8-2.07 0-2.86zM5.41 20L4 18.59l7.72-7.72 1.47 1.35L5.41 20z\"/>\n",
              "  </svg>\n",
              "      </button>\n",
              "      \n",
              "  <style>\n",
              "    .colab-df-container {\n",
              "      display:flex;\n",
              "      flex-wrap:wrap;\n",
              "      gap: 12px;\n",
              "    }\n",
              "\n",
              "    .colab-df-convert {\n",
              "      background-color: #E8F0FE;\n",
              "      border: none;\n",
              "      border-radius: 50%;\n",
              "      cursor: pointer;\n",
              "      display: none;\n",
              "      fill: #1967D2;\n",
              "      height: 32px;\n",
              "      padding: 0 0 0 0;\n",
              "      width: 32px;\n",
              "    }\n",
              "\n",
              "    .colab-df-convert:hover {\n",
              "      background-color: #E2EBFA;\n",
              "      box-shadow: 0px 1px 2px rgba(60, 64, 67, 0.3), 0px 1px 3px 1px rgba(60, 64, 67, 0.15);\n",
              "      fill: #174EA6;\n",
              "    }\n",
              "\n",
              "    [theme=dark] .colab-df-convert {\n",
              "      background-color: #3B4455;\n",
              "      fill: #D2E3FC;\n",
              "    }\n",
              "\n",
              "    [theme=dark] .colab-df-convert:hover {\n",
              "      background-color: #434B5C;\n",
              "      box-shadow: 0px 1px 3px 1px rgba(0, 0, 0, 0.15);\n",
              "      filter: drop-shadow(0px 1px 2px rgba(0, 0, 0, 0.3));\n",
              "      fill: #FFFFFF;\n",
              "    }\n",
              "  </style>\n",
              "\n",
              "      <script>\n",
              "        const buttonEl =\n",
              "          document.querySelector('#df-7170d970-82c3-4c2e-9f82-cbd33758c8a4 button.colab-df-convert');\n",
              "        buttonEl.style.display =\n",
              "          google.colab.kernel.accessAllowed ? 'block' : 'none';\n",
              "\n",
              "        async function convertToInteractive(key) {\n",
              "          const element = document.querySelector('#df-7170d970-82c3-4c2e-9f82-cbd33758c8a4');\n",
              "          const dataTable =\n",
              "            await google.colab.kernel.invokeFunction('convertToInteractive',\n",
              "                                                     [key], {});\n",
              "          if (!dataTable) return;\n",
              "\n",
              "          const docLinkHtml = 'Like what you see? Visit the ' +\n",
              "            '<a target=\"_blank\" href=https://colab.research.google.com/notebooks/data_table.ipynb>data table notebook</a>'\n",
              "            + ' to learn more about interactive tables.';\n",
              "          element.innerHTML = '';\n",
              "          dataTable['output_type'] = 'display_data';\n",
              "          await google.colab.output.renderOutput(dataTable, element);\n",
              "          const docLink = document.createElement('div');\n",
              "          docLink.innerHTML = docLinkHtml;\n",
              "          element.appendChild(docLink);\n",
              "        }\n",
              "      </script>\n",
              "    </div>\n",
              "  </div>\n",
              "  "
            ]
          },
          "metadata": {},
          "execution_count": 2
        }
      ]
    },
    {
      "cell_type": "markdown",
      "source": [
        "## **Analisi del dataset**\n",
        "\n",
        "Una delle fasi più importanti nello sviluppo di un sistema di IA è l'**analisi del dataset**. E' indispensabile essere a conoscenza di come si presenta il dato che si ha disposizione e di come sono distribuite le classi all'interno del dataset.\n",
        "\n",
        "### **Analisi numerosità e presenza di valori nulli**\n",
        "\n",
        "Per prima cosa verifichiamo la numerosità dei dati a nostra disposizione:"
      ],
      "metadata": {
        "id": "nwLNm2rmvro5"
      }
    },
    {
      "cell_type": "code",
      "source": [
        "# Numerosità dataset\n",
        "df.shape"
      ],
      "metadata": {
        "colab": {
          "base_uri": "https://localhost:8080/"
        },
        "id": "LQPveKi3vwrL",
        "outputId": "4d9adb31-fe79-4db4-d7ed-8c1bb72be549"
      },
      "execution_count": null,
      "outputs": [
        {
          "output_type": "execute_result",
          "data": {
            "text/plain": [
              "(50000, 2)"
            ]
          },
          "metadata": {},
          "execution_count": 3
        }
      ]
    },
    {
      "cell_type": "markdown",
      "source": [
        "Verifichiamo poi la presenza di valori nulli all'interno del dataframe e, in caso positivo andiamo a rimuoverli:"
      ],
      "metadata": {
        "id": "eY7k05KyoN9K"
      }
    },
    {
      "cell_type": "code",
      "source": [
        "# Analisi presenza di valori nulli\n",
        "df.isnull().any()"
      ],
      "metadata": {
        "id": "E772nF8JoEdS",
        "outputId": "2cc061eb-1923-4866-fa7c-d89396f4e72b",
        "colab": {
          "base_uri": "https://localhost:8080/"
        }
      },
      "execution_count": null,
      "outputs": [
        {
          "output_type": "execute_result",
          "data": {
            "text/plain": [
              "review       False\n",
              "sentiment    False\n",
              "dtype: bool"
            ]
          },
          "metadata": {},
          "execution_count": 4
        }
      ]
    },
    {
      "cell_type": "markdown",
      "source": [
        "Come si può vedere, il dataset non contiene valori nulli nè all'interno della colonna *review*, nè nella colonna *sentiment*.\n",
        "\n",
        "### **Analisi distribuzione delle classi**\n",
        "Possiamo procedere analizzando **come i valori della colonna target si distribuiscono sul dataset**. Per fare ciò sfruttiamo le funzionalità offerte dalle librerie [seaborn](https://seaborn.pydata.org/) e [matplotlib](https://matplotlib.org/) che ci forniscono una visualizzazione grafica della distribuzione dei dati contenuti **nella** colonna *sentiment*."
      ],
      "metadata": {
        "id": "kK7SueEfpNN7"
      }
    },
    {
      "cell_type": "code",
      "source": [
        "import seaborn as sns\n",
        "import matplotlib.pyplot as plt\n",
        "\n",
        "fig , ax = plt.subplots(1,2,figsize=(22,9))\n",
        "\n",
        "# Grafico a torta con matplotlib\n",
        "df['sentiment'].value_counts().plot.pie(explode=[0,0.07],\n",
        "                                        autopct='%1.2f%%',\n",
        "                                        ax=ax[0],\n",
        "                                        shadow=True,\n",
        "                                        startangle=300,\n",
        "                                        colors = [\"#59BFEB\", \"#A80F0F\"])\n",
        "ax[0].set_ylabel('')\n",
        "ax[0].set_title('Distribution of Positive / Negative Emotions')\n",
        "\n",
        "# Istogramma con seaborn\n",
        "sns.countplot(x=df['sentiment'],\n",
        "              ax=ax[1],\n",
        "              palette=[\"#59BFEB\", \"#A80F0F\"])\n",
        "\n",
        "ax[1].set_title('Distribution of Positive / Negative Emotions')\n",
        "\n",
        "plt.show()"
      ],
      "metadata": {
        "id": "na7d9m1Vv85X",
        "outputId": "092baabb-93ac-4e97-eaf4-f42834ee3476",
        "colab": {
          "base_uri": "https://localhost:8080/",
          "height": 369
        }
      },
      "execution_count": null,
      "outputs": [
        {
          "output_type": "display_data",
          "data": {
            "text/plain": [
              "<Figure size 1584x648 with 2 Axes>"
            ],
            "image/png": "[encoded data removed]"
          },
          "metadata": {
            "needs_background": "light"
          }
        }
      ]
    },
    {
      "cell_type": "markdown",
      "source": [
        "Come si può notare dai grafici, il dataset è **perfettamente bilanciato**: il 50% delle review appartengono alla classe *positive* e il restante 50% appartengono alla classe *negative*. Il modello quindi riuscirà ad apprendere in egual misura tra tutte le classi del dataset."
      ],
      "metadata": {
        "id": "OD0GRs3f1bSJ"
      }
    },
    {
      "cell_type": "markdown",
      "source": [
        "### **Analisi testo**\n",
        "Vediamo ora come sono distribuite le parole all'interno delle review:"
      ],
      "metadata": {
        "id": "dL3AF0p_NEG6"
      }
    },
    {
      "cell_type": "code",
      "source": [
        "from collections import Counter\n",
        "\n",
        "def get_most_common_words(df, sentiment):\n",
        "  review_corpus = df[df['sentiment']==sentiment]['review'].str.lower().str.split()\n",
        "  review_corpus = [word for review in review_corpus for word in review]\n",
        "  counter=Counter(review_corpus)\n",
        "  most_common_words=counter.most_common()\n",
        "  words, count = zip(*most_common_words[:100])\n",
        "  return words, count\n",
        "\n",
        "def print_words_distribution(df):\n",
        "  fig , (ax1, ax2) = plt.subplots(1,2,figsize=(15,20))\n",
        "  words, count = get_most_common_words(df, sentiment='positive')\n",
        "  sns.barplot(x=list(count),y=list(words), ax=ax1)\n",
        "  ax1.set_title('Positive reviews word count')\n",
        "  words, count = get_most_common_words(df, sentiment='negative')\n",
        "  sns.barplot(x=list(count),y=list(words), ax=ax2)\n",
        "  ax2.set_title('Negative reviews word count')\n"
      ],
      "metadata": {
        "id": "2uOCA9P8NjHK"
      },
      "execution_count": null,
      "outputs": []
    },
    {
      "cell_type": "code",
      "source": [
        "print_words_distribution(df)"
      ],
      "metadata": {
        "colab": {
          "base_uri": "https://localhost:8080/",
          "height": 989
        },
        "id": "tDYWGs7-c7Ad",
        "outputId": "6a751671-6a0f-4ba5-8a77-92aa663cb2aa"
      },
      "execution_count": null,
      "outputs": [
        {
          "output_type": "display_data",
          "data": {
            "text/plain": [
              "<Figure size 1080x1440 with 2 Axes>"
            ],
            "image/png": "[encoded data removed]"
          },
          "metadata": {
            "needs_background": "light"
          }
        }
      ]
    },
    {
      "cell_type": "markdown",
      "source": [
        "Possiamo notare che le parole più frequenti sono parole come \"or\", \"and\", \"of\" ecc., dette **stopwords**.\n",
        "\n",
        "Le stopwords sono delle parole che vengono usate per collegare le parole tra loro e facilitare la costruzione delle frasi nei vari linguaggi, ma non hanno un significato distintivo e non forniscono informazioni specifiche sul contenuto del testo, per questo motivo diventa necessario escluderle prima di utilizzare i dati per l'addestramento."
      ],
      "metadata": {
        "id": "YWq3xqyw6743"
      }
    },
    {
      "cell_type": "markdown",
      "source": [
        "## **Data Cleaning**\n",
        "La fase di pulizia dei dati è la fase più importante nella creazione di un modello di IA efficace. Se i dati di input sono sporchi il modello di NLP non riesce ad imparare correttamente le regole e le logiche che si nascondono nel testo, ottenendo dei risultati scarsi.\n",
        "\n",
        "Vediamo come avviene il processo di pulizia del dataset facendo riferimento ad una specifica review:"
      ],
      "metadata": {
        "id": "ja4x4GwJdAD7"
      }
    },
    {
      "cell_type": "code",
      "source": [
        "example_review = df.loc[0, 'review']\n",
        "example_review"
      ],
      "metadata": {
        "id": "OLDhtQGV1MMb",
        "outputId": "641fb426-ec4a-4508-f026-a46a6b971536",
        "colab": {
          "base_uri": "https://localhost:8080/",
          "height": 209
        }
      },
      "execution_count": null,
      "outputs": [
        {
          "output_type": "execute_result",
          "data": {
            "text/plain": [
              "\"One of the other reviewers has mentioned that after watching just 1 Oz episode you'll be hooked. They are right, as this is exactly what happened with me.<br /><br />The first thing that struck me about Oz was its brutality and unflinching scenes of violence, which set in right from the word GO. Trust me, this is not a show for the faint hearted or timid. This show pulls no punches with regards to drugs, sex or violence. Its is hardcore, in the classic use of the word.<br /><br />It is called OZ as that is the nickname given to the Oswald Maximum Security State Penitentary. It focuses mainly on Emerald City, an experimental section of the prison where all the cells have glass fronts and face inwards, so privacy is not high on the agenda. Em City is home to many..Aryans, Muslims, gangstas, Latinos, Christians, Italians, Irish and more....so scuffles, death stares, dodgy dealings and shady agreements are never far away.<br /><br />I would say the main appeal of the show is due to the fact that it goes where other shows wouldn't dare. Forget pretty pictures painted for mainstream audiences, forget charm, forget romance...OZ doesn't mess around. The first episode I ever saw struck me as so nasty it was surreal, I couldn't say I was ready for it, but as I watched more, I developed a taste for Oz, and got accustomed to the high levels of graphic violence. Not just violence, but injustice (crooked guards who'll be sold out for a nickel, inmates who'll kill on order and get away with it, well mannered, middle class inmates being turned into prison bitches due to their lack of street skills or prison experience) Watching Oz, you may become comfortable with what is uncomfortable viewing....thats if you can get in touch with your darker side.\""
            ],
            "application/vnd.google.colaboratory.intrinsic+json": {
              "type": "string"
            }
          },
          "metadata": {},
          "execution_count": 8
        }
      ]
    },
    {
      "cell_type": "markdown",
      "source": [
        "### **Rimozione tag html**"
      ],
      "metadata": {
        "id": "02ruGtkXC6YH"
      }
    },
    {
      "cell_type": "markdown",
      "source": [
        "Per prima cosa andiamo a ripulire il testo dai tag HTML che abbiamo individuato durante la fase di analisi del testo e che sono visibili anche nella review presa in considerazione.\n",
        "\n",
        "Per fare ciò sfruttiamo le funzionalità della libreria [BeautifulSoup](https://beautiful-soup-4.readthedocs.io/en/latest/#), che ci consente di estrapolare informazioni dalle pagine web. Nel nostro caso andiamo ad estrapolare il testo dalla review escludendo i tag HTML."
      ],
      "metadata": {
        "id": "MQgkB5Zg8zW8"
      }
    },
    {
      "cell_type": "code",
      "source": [
        "from bs4 import BeautifulSoup\n",
        "\n",
        "example_review = BeautifulSoup(example_review).get_text()\n",
        "example_review"
      ],
      "metadata": {
        "colab": {
          "base_uri": "https://localhost:8080/",
          "height": 209
        },
        "id": "8z4U8n_WC-sI",
        "outputId": "6301bb8e-d200-40ec-f378-5e239047f3fb"
      },
      "execution_count": null,
      "outputs": [
        {
          "output_type": "execute_result",
          "data": {
            "text/plain": [
              "\"One of the other reviewers has mentioned that after watching just 1 Oz episode you'll be hooked. They are right, as this is exactly what happened with me.The first thing that struck me about Oz was its brutality and unflinching scenes of violence, which set in right from the word GO. Trust me, this is not a show for the faint hearted or timid. This show pulls no punches with regards to drugs, sex or violence. Its is hardcore, in the classic use of the word.It is called OZ as that is the nickname given to the Oswald Maximum Security State Penitentary. It focuses mainly on Emerald City, an experimental section of the prison where all the cells have glass fronts and face inwards, so privacy is not high on the agenda. Em City is home to many..Aryans, Muslims, gangstas, Latinos, Christians, Italians, Irish and more....so scuffles, death stares, dodgy dealings and shady agreements are never far away.I would say the main appeal of the show is due to the fact that it goes where other shows wouldn't dare. Forget pretty pictures painted for mainstream audiences, forget charm, forget romance...OZ doesn't mess around. The first episode I ever saw struck me as so nasty it was surreal, I couldn't say I was ready for it, but as I watched more, I developed a taste for Oz, and got accustomed to the high levels of graphic violence. Not just violence, but injustice (crooked guards who'll be sold out for a nickel, inmates who'll kill on order and get away with it, well mannered, middle class inmates being turned into prison bitches due to their lack of street skills or prison experience) Watching Oz, you may become comfortable with what is uncomfortable viewing....thats if you can get in touch with your darker side.\""
            ],
            "application/vnd.google.colaboratory.intrinsic+json": {
              "type": "string"
            }
          },
          "metadata": {},
          "execution_count": 9
        }
      ]
    },
    {
      "cell_type": "markdown",
      "source": [
        "### **Rimozione caratteri speciali**\n",
        "Per la rimozione dei caratteri speciali dal testo andiamo ad utilizzare la libreria [re](https://docs.python.org/3/library/re.html), libreria che permette di applicare delle regex su un testo.\n",
        "\n",
        "In particolare andremo a rimuovere:\n",
        "\n",
        "\n",
        "*   segni di punteggiatura e numeri;\n",
        "*   spazi multipli;\n",
        "*   spazi all'inizio e alla fine della stringa.\n",
        "\n"
      ],
      "metadata": {
        "id": "xiCgk-8hIp5R"
      }
    },
    {
      "cell_type": "code",
      "source": [
        "import re\n",
        "\n",
        "example_review = re.sub(\"[^a-zA-Zàèéìòù\\s]\", \" \", example_review) # rimozione caratteri numerici o segni di punteggiatura\n",
        "example_review = re.sub(\"\\s+\", \" \", example_review) # rimozione spazi multipli\n",
        "example_review = example_review.strip() # rimozione spazi all'inizio e alla fine della stringa\n",
        "example_review"
      ],
      "metadata": {
        "colab": {
          "base_uri": "https://localhost:8080/",
          "height": 209
        },
        "id": "pP56G0IzIqOL",
        "outputId": "ebb231b2-c2ac-46fe-fd7d-901a210733d2"
      },
      "execution_count": null,
      "outputs": [
        {
          "output_type": "execute_result",
          "data": {
            "text/plain": [
              "'One of the other reviewers has mentioned that after watching just Oz episode you ll be hooked They are right as this is exactly what happened with me The first thing that struck me about Oz was its brutality and unflinching scenes of violence which set in right from the word GO Trust me this is not a show for the faint hearted or timid This show pulls no punches with regards to drugs sex or violence Its is hardcore in the classic use of the word It is called OZ as that is the nickname given to the Oswald Maximum Security State Penitentary It focuses mainly on Emerald City an experimental section of the prison where all the cells have glass fronts and face inwards so privacy is not high on the agenda Em City is home to many Aryans Muslims gangstas Latinos Christians Italians Irish and more so scuffles death stares dodgy dealings and shady agreements are never far away I would say the main appeal of the show is due to the fact that it goes where other shows wouldn t dare Forget pretty pictures painted for mainstream audiences forget charm forget romance OZ doesn t mess around The first episode I ever saw struck me as so nasty it was surreal I couldn t say I was ready for it but as I watched more I developed a taste for Oz and got accustomed to the high levels of graphic violence Not just violence but injustice crooked guards who ll be sold out for a nickel inmates who ll kill on order and get away with it well mannered middle class inmates being turned into prison bitches due to their lack of street skills or prison experience Watching Oz you may become comfortable with what is uncomfortable viewing thats if you can get in touch with your darker side'"
            ],
            "application/vnd.google.colaboratory.intrinsic+json": {
              "type": "string"
            }
          },
          "metadata": {},
          "execution_count": 10
        }
      ]
    },
    {
      "cell_type": "markdown",
      "source": [
        "### **Trasformazione del testo in lower case**\n",
        "Un passo importante è proprio la conversione del testo in minuscolo. Questo perchè i nostri algoritmi di apprendimento automatico sono case sensitive: le parole \"Film\" e \"film\" verrebbero considerate come due parole diverse.\n",
        "\n",
        "Questo porterebbe il modello ad imparare nel modo sbagliato, per questo motivo andiamo a trasformare tutto il testo in minuscolo."
      ],
      "metadata": {
        "id": "EhmgvX6aJZBB"
      }
    },
    {
      "cell_type": "code",
      "source": [
        "example_review = example_review.lower() # trasformazione del testo in lower case\n",
        "example_review"
      ],
      "metadata": {
        "colab": {
          "base_uri": "https://localhost:8080/",
          "height": 209
        },
        "id": "v94FIFmQJfEX",
        "outputId": "8e90df10-d2ec-4397-d15c-f1604a8138e6"
      },
      "execution_count": null,
      "outputs": [
        {
          "output_type": "execute_result",
          "data": {
            "text/plain": [
              "'one of the other reviewers has mentioned that after watching just oz episode you ll be hooked they are right as this is exactly what happened with me the first thing that struck me about oz was its brutality and unflinching scenes of violence which set in right from the word go trust me this is not a show for the faint hearted or timid this show pulls no punches with regards to drugs sex or violence its is hardcore in the classic use of the word it is called oz as that is the nickname given to the oswald maximum security state penitentary it focuses mainly on emerald city an experimental section of the prison where all the cells have glass fronts and face inwards so privacy is not high on the agenda em city is home to many aryans muslims gangstas latinos christians italians irish and more so scuffles death stares dodgy dealings and shady agreements are never far away i would say the main appeal of the show is due to the fact that it goes where other shows wouldn t dare forget pretty pictures painted for mainstream audiences forget charm forget romance oz doesn t mess around the first episode i ever saw struck me as so nasty it was surreal i couldn t say i was ready for it but as i watched more i developed a taste for oz and got accustomed to the high levels of graphic violence not just violence but injustice crooked guards who ll be sold out for a nickel inmates who ll kill on order and get away with it well mannered middle class inmates being turned into prison bitches due to their lack of street skills or prison experience watching oz you may become comfortable with what is uncomfortable viewing thats if you can get in touch with your darker side'"
            ],
            "application/vnd.google.colaboratory.intrinsic+json": {
              "type": "string"
            }
          },
          "metadata": {},
          "execution_count": 11
        }
      ]
    },
    {
      "cell_type": "markdown",
      "source": [
        "### **Rimozione stopwords**\n",
        "Una volta pulito e uniformato il testo, andiamo a rimuovere le stopwords, in modo da mantenere nel testo solo le parole realmente significative per il nostro caso d'uso.\n",
        "\n",
        "La libreria [nltk](https://www.nltk.org/) mette a disposizione un elenco di stopwords per diverse lingue. Noi andremo a scaricare l'elenco di stopwords inglesi."
      ],
      "metadata": {
        "id": "VgCLKG7IJzMx"
      }
    },
    {
      "cell_type": "code",
      "source": [
        "import nltk\n",
        "from nltk.corpus import stopwords\n",
        "\n",
        "nltk.download('stopwords')\n",
        "stop_words = set(stopwords.words('english'))\n",
        "stop_words"
      ],
      "metadata": {
        "colab": {
          "base_uri": "https://localhost:8080/"
        },
        "id": "Wb5CGU8KJ1V_",
        "outputId": "582345e6-cd88-4d03-9c60-74222bca93b6"
      },
      "execution_count": null,
      "outputs": [
        {
          "output_type": "stream",
          "name": "stderr",
          "text": [
            "[nltk_data] Downloading package stopwords to /root/nltk_data...\n",
            "[nltk_data]   Package stopwords is already up-to-date!\n"
          ]
        },
        {
          "output_type": "execute_result",
          "data": {
            "text/plain": [
              "{'a',\n",
              " 'about',\n",
              " 'above',\n",
              " 'after',\n",
              " 'again',\n",
              " 'against',\n",
              " 'ain',\n",
              " 'all',\n",
              " 'am',\n",
              " 'an',\n",
              " 'and',\n",
              " 'any',\n",
              " 'are',\n",
              " 'aren',\n",
              " \"aren't\",\n",
              " 'as',\n",
              " 'at',\n",
              " 'be',\n",
              " 'because',\n",
              " 'been',\n",
              " 'before',\n",
              " 'being',\n",
              " 'below',\n",
              " 'between',\n",
              " 'both',\n",
              " 'but',\n",
              " 'by',\n",
              " 'can',\n",
              " 'couldn',\n",
              " \"couldn't\",\n",
              " 'd',\n",
              " 'did',\n",
              " 'didn',\n",
              " \"didn't\",\n",
              " 'do',\n",
              " 'does',\n",
              " 'doesn',\n",
              " \"doesn't\",\n",
              " 'doing',\n",
              " 'don',\n",
              " \"don't\",\n",
              " 'down',\n",
              " 'during',\n",
              " 'each',\n",
              " 'few',\n",
              " 'for',\n",
              " 'from',\n",
              " 'further',\n",
              " 'had',\n",
              " 'hadn',\n",
              " \"hadn't\",\n",
              " 'has',\n",
              " 'hasn',\n",
              " \"hasn't\",\n",
              " 'have',\n",
              " 'haven',\n",
              " \"haven't\",\n",
              " 'having',\n",
              " 'he',\n",
              " 'her',\n",
              " 'here',\n",
              " 'hers',\n",
              " 'herself',\n",
              " 'him',\n",
              " 'himself',\n",
              " 'his',\n",
              " 'how',\n",
              " 'i',\n",
              " 'if',\n",
              " 'in',\n",
              " 'into',\n",
              " 'is',\n",
              " 'isn',\n",
              " \"isn't\",\n",
              " 'it',\n",
              " \"it's\",\n",
              " 'its',\n",
              " 'itself',\n",
              " 'just',\n",
              " 'll',\n",
              " 'm',\n",
              " 'ma',\n",
              " 'me',\n",
              " 'mightn',\n",
              " \"mightn't\",\n",
              " 'more',\n",
              " 'most',\n",
              " 'mustn',\n",
              " \"mustn't\",\n",
              " 'my',\n",
              " 'myself',\n",
              " 'needn',\n",
              " \"needn't\",\n",
              " 'no',\n",
              " 'nor',\n",
              " 'not',\n",
              " 'now',\n",
              " 'o',\n",
              " 'of',\n",
              " 'off',\n",
              " 'on',\n",
              " 'once',\n",
              " 'only',\n",
              " 'or',\n",
              " 'other',\n",
              " 'our',\n",
              " 'ours',\n",
              " 'ourselves',\n",
              " 'out',\n",
              " 'over',\n",
              " 'own',\n",
              " 're',\n",
              " 's',\n",
              " 'same',\n",
              " 'shan',\n",
              " \"shan't\",\n",
              " 'she',\n",
              " \"she's\",\n",
              " 'should',\n",
              " \"should've\",\n",
              " 'shouldn',\n",
              " \"shouldn't\",\n",
              " 'so',\n",
              " 'some',\n",
              " 'such',\n",
              " 't',\n",
              " 'than',\n",
              " 'that',\n",
              " \"that'll\",\n",
              " 'the',\n",
              " 'their',\n",
              " 'theirs',\n",
              " 'them',\n",
              " 'themselves',\n",
              " 'then',\n",
              " 'there',\n",
              " 'these',\n",
              " 'they',\n",
              " 'this',\n",
              " 'those',\n",
              " 'through',\n",
              " 'to',\n",
              " 'too',\n",
              " 'under',\n",
              " 'until',\n",
              " 'up',\n",
              " 've',\n",
              " 'very',\n",
              " 'was',\n",
              " 'wasn',\n",
              " \"wasn't\",\n",
              " 'we',\n",
              " 'were',\n",
              " 'weren',\n",
              " \"weren't\",\n",
              " 'what',\n",
              " 'when',\n",
              " 'where',\n",
              " 'which',\n",
              " 'while',\n",
              " 'who',\n",
              " 'whom',\n",
              " 'why',\n",
              " 'will',\n",
              " 'with',\n",
              " 'won',\n",
              " \"won't\",\n",
              " 'wouldn',\n",
              " \"wouldn't\",\n",
              " 'y',\n",
              " 'you',\n",
              " \"you'd\",\n",
              " \"you'll\",\n",
              " \"you're\",\n",
              " \"you've\",\n",
              " 'your',\n",
              " 'yours',\n",
              " 'yourself',\n",
              " 'yourselves'}"
            ]
          },
          "metadata": {},
          "execution_count": 12
        }
      ]
    },
    {
      "cell_type": "code",
      "source": [
        "review_tokens = [word for word in example_review.split() if word not in stop_words] # trasformazione in lista di token e rimozione delle stopwords\n",
        "cleaned_review = ' '.join(review_tokens) # unione della lista di token in una stringa\n",
        "cleaned_review"
      ],
      "metadata": {
        "colab": {
          "base_uri": "https://localhost:8080/",
          "height": 209
        },
        "id": "_mIxZWCmKV88",
        "outputId": "bfa422d2-cfff-4edf-b2c3-b0c4197976cf"
      },
      "execution_count": null,
      "outputs": [
        {
          "output_type": "execute_result",
          "data": {
            "text/plain": [
              "'one reviewers mentioned watching oz episode hooked right exactly happened first thing struck oz brutality unflinching scenes violence set right word go trust show faint hearted timid show pulls punches regards drugs sex violence hardcore classic use word called oz nickname given oswald maximum security state penitentary focuses mainly emerald city experimental section prison cells glass fronts face inwards privacy high agenda em city home many aryans muslims gangstas latinos christians italians irish scuffles death stares dodgy dealings shady agreements never far away would say main appeal show due fact goes shows dare forget pretty pictures painted mainstream audiences forget charm forget romance oz mess around first episode ever saw struck nasty surreal say ready watched developed taste oz got accustomed high levels graphic violence violence injustice crooked guards sold nickel inmates kill order get away well mannered middle class inmates turned prison bitches due lack street skills prison experience watching oz may become comfortable uncomfortable viewing thats get touch darker side'"
            ],
            "application/vnd.google.colaboratory.intrinsic+json": {
              "type": "string"
            }
          },
          "metadata": {},
          "execution_count": 13
        }
      ]
    },
    {
      "cell_type": "markdown",
      "source": [
        "### **Pulizia dell'intero dataset**\n",
        "Andiamo a ripetere questi passi per tutte le review presenti nel dataset.\n",
        "\n",
        "La libreria [pandas](https://pandas.pydata.org/docs/) permette di applicare a tutte le righe del dataset delle funzioni in modo semplice ed efficiente. Inoltre utilizzeremo la libreria [tqdm](https://tqdm.github.io/) per monitorare lo stato dell'esecuzione.\n"
      ],
      "metadata": {
        "id": "gTOfBpgFUTFl"
      }
    },
    {
      "cell_type": "code",
      "source": [
        "from tqdm import tqdm\n",
        "tqdm.pandas()\n",
        "\n",
        "def clean_text(review):\n",
        "  review = BeautifulSoup(review).get_text() # rimozione dei tag HTML\n",
        "  review = re.sub(\"[^a-zA-Zàèéìòù\\s]\", \" \", review) # rimozione di caratteri numerici o segni di punteggiatura\n",
        "  review = re.sub(\"\\s+\", \" \", review) # rimozione spazi multipli\n",
        "  review = review.strip() # rimozione spazi all'inizio e alla fine della stringa\n",
        "  review = review.lower() # trasformazione del testo in lower case\n",
        "  text_tokens = [word for word in review.split() if word not in stop_words] # rimozione stopwords\n",
        "  cleaned_text = ' '.join(text_tokens)\n",
        "  return cleaned_text\n",
        "\n",
        "df['review'] = df['review'].progress_apply(lambda x: clean_text(x))\n",
        "df['review']"
      ],
      "metadata": {
        "id": "jWUo1q1LqflZ",
        "colab": {
          "base_uri": "https://localhost:8080/"
        },
        "outputId": "5b1d3145-acca-46e7-cf5b-0e4145284837"
      },
      "execution_count": null,
      "outputs": [
        {
          "output_type": "stream",
          "name": "stderr",
          "text": [
            "100%|██████████| 50000/50000 [00:44<00:00, 1132.82it/s]\n"
          ]
        },
        {
          "output_type": "execute_result",
          "data": {
            "text/plain": [
              "0        one reviewers mentioned watching oz episode ho...\n",
              "1        wonderful little production filming technique ...\n",
              "2        thought wonderful way spend time hot summer we...\n",
              "3        basically family little boy jake thinks zombie...\n",
              "4        petter mattei love time money visually stunnin...\n",
              "                               ...                        \n",
              "49995    thought movie right good job creative original...\n",
              "49996    bad plot bad dialogue bad acting idiotic direc...\n",
              "49997    catholic taught parochial elementary schools n...\n",
              "49998    going disagree previous comment side maltin on...\n",
              "49999    one expects star trek movies high art fans exp...\n",
              "Name: review, Length: 50000, dtype: object"
            ]
          },
          "metadata": {},
          "execution_count": 14
        }
      ]
    },
    {
      "cell_type": "markdown",
      "source": [
        "Ora se andiamo ad analizzare la distribuzione delle parole sul dataset ripulito, possiamo notare che tra le più numerose sono presenti parole molto più significative rispetto al nostro caso d'uso (es. movie, good, bad ecc.)."
      ],
      "metadata": {
        "id": "xrjFj8thCV9m"
      }
    },
    {
      "cell_type": "code",
      "source": [
        "print_words_distribution(df)"
      ],
      "metadata": {
        "colab": {
          "base_uri": "https://localhost:8080/",
          "height": 966
        },
        "id": "JqkZF_vHdPVa",
        "outputId": "24afcbb5-f706-4e2f-bedf-94b2fd92ff25"
      },
      "execution_count": null,
      "outputs": [
        {
          "output_type": "display_data",
          "data": {
            "text/plain": [
              "<Figure size 1080x1440 with 2 Axes>"
            ],
            "image/png": "[encoded data removed]"
          },
          "metadata": {
            "needs_background": "light"
          }
        }
      ]
    },
    {
      "cell_type": "markdown",
      "source": [
        "Ora che abbiamo i testi puliti, andiamo ad analizzare come questi si distribuiscono in termini di lunghezza (numero di parole):"
      ],
      "metadata": {
        "id": "EUP4xmIWTBwH"
      }
    },
    {
      "cell_type": "code",
      "source": [
        "count_words = df['review'].apply(lambda x: len(x.split())).to_list()\n",
        "plt.figure(figsize=(15,10))\n",
        "sns.distplot(count_words,color='Purple')\n",
        "plt.show()"
      ],
      "metadata": {
        "colab": {
          "base_uri": "https://localhost:8080/",
          "height": 565
        },
        "id": "GsK1udIh-4AO",
        "outputId": "2fd3d4fa-7fd9-47d7-ead8-002df10a07bd"
      },
      "execution_count": null,
      "outputs": [
        {
          "output_type": "stream",
          "name": "stderr",
          "text": [
            "/usr/local/lib/python3.8/dist-packages/seaborn/distributions.py:2619: FutureWarning: `distplot` is a deprecated function and will be removed in a future version. Please adapt your code to use either `displot` (a figure-level function with similar flexibility) or `histplot` (an axes-level function for histograms).\n",
            "  warnings.warn(msg, FutureWarning)\n"
          ]
        },
        {
          "output_type": "display_data",
          "data": {
            "text/plain": [
              "<Figure size 1080x720 with 1 Axes>"
            ],
            "image/png": "[encoded data removed]"
          },
          "metadata": {
            "needs_background": "light"
          }
        }
      ]
    },
    {
      "cell_type": "code",
      "source": [
        "from statistics import mean\n",
        "print(f\"Minimum review length: {min(count_words)}\")\n",
        "print(f\"Maximum review length: {max(count_words)}\")\n",
        "print(f\"Mean review length: {mean(count_words)}\")"
      ],
      "metadata": {
        "id": "7a_-SbQy5JRd",
        "outputId": "dbcc2ddf-2226-4e3a-9302-23a839cde88e",
        "colab": {
          "base_uri": "https://localhost:8080/"
        }
      },
      "execution_count": null,
      "outputs": [
        {
          "output_type": "stream",
          "name": "stdout",
          "text": [
            "Minimum review length: 3\n",
            "Maximum review length: 1416\n",
            "Mean review length: 118.12708\n"
          ]
        }
      ]
    },
    {
      "cell_type": "markdown",
      "source": [
        "## **Split del dataset**\n",
        "Adesso il dataset è pronto per essere trasformato in vettore ed essere poi dato in pasto all'algoritmo di apprendimento. Prima però è importante che questo venga suddiviso in due parti:\n",
        "\n",
        "\n",
        "*   **train-set**: insieme di dati che viene utilizzato per addestrare il modello; dovrebbe rappresentare una porzione significativa del dataset originale e deve essere sufficientemente grande per consentire al modello di imparare i pattern dei dati;\n",
        "*   **test-set**: viene utilizzato per verificare che il modello sia in grado di generalizzare bene sui dati che non ha mai visto prima.\n",
        "\n",
        "Abbiamo deciso di generare un training set che includa l'80% dei dati a disposizione e il restante 20% per il test.\n",
        "\n",
        "Utilizziamo la funzione [`train_test_split`](https://scikit-learn.org/stable/modules/generated/sklearn.model_selection.train_test_split.html) di scikit-learn, che fornisce la funzionalità di split del dataset tenendo conto di alcuni parametri."
      ],
      "metadata": {
        "id": "KGLp1xLsu78L"
      }
    },
    {
      "cell_type": "code",
      "source": [
        "from sklearn.model_selection import train_test_split\n",
        "\n",
        "df_train, df_test = train_test_split(df, test_size=0.2, random_state=42, stratify=df['sentiment'])\n",
        "\n",
        "print(\"Train set shape: \", df_train.shape)\n",
        "print(\"Test set shape: \", df_test.shape)\n",
        "\n",
        "print(\"\\nTrain set classes distribution:\\n\", df_train['sentiment'].value_counts())\n",
        "print(\"\\nTest set classes distribution:\\n\", df_test['sentiment'].value_counts())\n",
        "\n"
      ],
      "metadata": {
        "id": "xBDAIfYNsg2x",
        "colab": {
          "base_uri": "https://localhost:8080/"
        },
        "outputId": "bca0caf3-7748-4e92-83fb-8f5414b9b12d"
      },
      "execution_count": null,
      "outputs": [
        {
          "output_type": "stream",
          "name": "stdout",
          "text": [
            "Train set shape:  (40000, 2)\n",
            "Test set shape:  (10000, 2)\n",
            "\n",
            "Train set classes distribution:\n",
            " positive    20000\n",
            "negative    20000\n",
            "Name: sentiment, dtype: int64\n",
            "\n",
            "Test set classes distribution:\n",
            " negative    5000\n",
            "positive    5000\n",
            "Name: sentiment, dtype: int64\n"
          ]
        }
      ]
    },
    {
      "cell_type": "markdown",
      "source": [
        "Come potete vedere il dataset di training e quello di test mantengono la stessa distribuzione delle label del dataset originale (50% *positive* e 50% *negative*). Questo è possibile specificando il paremetro `stratify` nella funzione di split."
      ],
      "metadata": {
        "id": "00oozqpsWLBJ"
      }
    },
    {
      "cell_type": "markdown",
      "source": [
        "### **Vettorizzazione dei testi**\n",
        "Come abbiamo detto, il dato deve avere un formato numerico per essere passato all'algoritmo di apprendimento. Applichiamo quindi la funzione di sklearn [TF-IDF](https://scikit-learn.org/stable/modules/generated/sklearn.feature_extraction.text.TfidfVectorizer.html) per rappresentare le *review* sottoforma di vettori numerici."
      ],
      "metadata": {
        "id": "FKazkLc6r5OL"
      }
    },
    {
      "cell_type": "code",
      "source": [
        "from sklearn.feature_extraction.text import TfidfVectorizer\n",
        "\n",
        "\n",
        "vectorizer = TfidfVectorizer(max_features=10000)\n",
        "train_vectors = vectorizer.fit_transform(df_train['review'])\n",
        "test_vectors = vectorizer.transform(df_test['review'])\n"
      ],
      "metadata": {
        "id": "YAXfn7Nsr8T6"
      },
      "execution_count": null,
      "outputs": []
    },
    {
      "cell_type": "markdown",
      "source": [
        "Vediamo come si presentano le prime 5 righe del dataset vettorizzato:"
      ],
      "metadata": {
        "id": "N203BqIyXVjx"
      }
    },
    {
      "cell_type": "code",
      "source": [
        "vectorized_train_df = pd.DataFrame(train_vectors.toarray(), columns=vectorizer.get_feature_names_out())\n",
        "vectorized_train_df.head()\n"
      ],
      "metadata": {
        "id": "-HyN1nACx9mZ",
        "colab": {
          "base_uri": "https://localhost:8080/",
          "height": 299
        },
        "outputId": "60cccb7f-f754-4a97-86ad-417f1b39aaf9"
      },
      "execution_count": null,
      "outputs": [
        {
          "output_type": "execute_result",
          "data": {
            "text/plain": [
              "   aaron  abandon  abandoned  abbey  abbott  abc  abducted  abilities  \\\n",
              "0    0.0      0.0        0.0    0.0     0.0  0.0       0.0        0.0   \n",
              "1    0.0      0.0        0.0    0.0     0.0  0.0       0.0        0.0   \n",
              "2    0.0      0.0        0.0    0.0     0.0  0.0       0.0        0.0   \n",
              "3    0.0      0.0        0.0    0.0     0.0  0.0       0.0        0.0   \n",
              "4    0.0      0.0        0.0    0.0     0.0  0.0       0.0        0.0   \n",
              "\n",
              "   ability  able  ...  zeta  zhang  zizek  zoey  zombi  zombie  zombies  zone  \\\n",
              "0      0.0   0.0  ...   0.0    0.0    0.0   0.0    0.0     0.0      0.0   0.0   \n",
              "1      0.0   0.0  ...   0.0    0.0    0.0   0.0    0.0     0.0      0.0   0.0   \n",
              "2      0.0   0.0  ...   0.0    0.0    0.0   0.0    0.0     0.0      0.0   0.0   \n",
              "3      0.0   0.0  ...   0.0    0.0    0.0   0.0    0.0     0.0      0.0   0.0   \n",
              "4      0.0   0.0  ...   0.0    0.0    0.0   0.0    0.0     0.0      0.0   0.0   \n",
              "\n",
              "   zoom  zucco  \n",
              "0   0.0    0.0  \n",
              "1   0.0    0.0  \n",
              "2   0.0    0.0  \n",
              "3   0.0    0.0  \n",
              "4   0.0    0.0  \n",
              "\n",
              "[5 rows x 10000 columns]"
            ],
            "text/html": [
              "\n",
              "  <div id=\"df-2680774d-c79a-4a5e-b9c4-4913d3e6c707\">\n",
              "    <div class=\"colab-df-container\">\n",
              "      <div>\n",
              "<style scoped>\n",
              "    .dataframe tbody tr th:only-of-type {\n",
              "        vertical-align: middle;\n",
              "    }\n",
              "\n",
              "    .dataframe tbody tr th {\n",
              "        vertical-align: top;\n",
              "    }\n",
              "\n",
              "    .dataframe thead th {\n",
              "        text-align: right;\n",
              "    }\n",
              "</style>\n",
              "<table border=\"1\" class=\"dataframe\">\n",
              "  <thead>\n",
              "    <tr style=\"text-align: right;\">\n",
              "      <th></th>\n",
              "      <th>aaron</th>\n",
              "      <th>abandon</th>\n",
              "      <th>abandoned</th>\n",
              "      <th>abbey</th>\n",
              "      <th>abbott</th>\n",
              "      <th>abc</th>\n",
              "      <th>abducted</th>\n",
              "      <th>abilities</th>\n",
              "      <th>ability</th>\n",
              "      <th>able</th>\n",
              "      <th>...</th>\n",
              "      <th>zeta</th>\n",
              "      <th>zhang</th>\n",
              "      <th>zizek</th>\n",
              "      <th>zoey</th>\n",
              "      <th>zombi</th>\n",
              "      <th>zombie</th>\n",
              "      <th>zombies</th>\n",
              "      <th>zone</th>\n",
              "      <th>zoom</th>\n",
              "      <th>zucco</th>\n",
              "    </tr>\n",
              "  </thead>\n",
              "  <tbody>\n",
              "    <tr>\n",
              "      <th>0</th>\n",
              "      <td>0.0</td>\n",
              "      <td>0.0</td>\n",
              "      <td>0.0</td>\n",
              "      <td>0.0</td>\n",
              "      <td>0.0</td>\n",
              "      <td>0.0</td>\n",
              "      <td>0.0</td>\n",
              "      <td>0.0</td>\n",
              "      <td>0.0</td>\n",
              "      <td>0.0</td>\n",
              "      <td>...</td>\n",
              "      <td>0.0</td>\n",
              "      <td>0.0</td>\n",
              "      <td>0.0</td>\n",
              "      <td>0.0</td>\n",
              "      <td>0.0</td>\n",
              "      <td>0.0</td>\n",
              "      <td>0.0</td>\n",
              "      <td>0.0</td>\n",
              "      <td>0.0</td>\n",
              "      <td>0.0</td>\n",
              "    </tr>\n",
              "    <tr>\n",
              "      <th>1</th>\n",
              "      <td>0.0</td>\n",
              "      <td>0.0</td>\n",
              "      <td>0.0</td>\n",
              "      <td>0.0</td>\n",
              "      <td>0.0</td>\n",
              "      <td>0.0</td>\n",
              "      <td>0.0</td>\n",
              "      <td>0.0</td>\n",
              "      <td>0.0</td>\n",
              "      <td>0.0</td>\n",
              "      <td>...</td>\n",
              "      <td>0.0</td>\n",
              "      <td>0.0</td>\n",
              "      <td>0.0</td>\n",
              "      <td>0.0</td>\n",
              "      <td>0.0</td>\n",
              "      <td>0.0</td>\n",
              "      <td>0.0</td>\n",
              "      <td>0.0</td>\n",
              "      <td>0.0</td>\n",
              "      <td>0.0</td>\n",
              "    </tr>\n",
              "    <tr>\n",
              "      <th>2</th>\n",
              "      <td>0.0</td>\n",
              "      <td>0.0</td>\n",
              "      <td>0.0</td>\n",
              "      <td>0.0</td>\n",
              "      <td>0.0</td>\n",
              "      <td>0.0</td>\n",
              "      <td>0.0</td>\n",
              "      <td>0.0</td>\n",
              "      <td>0.0</td>\n",
              "      <td>0.0</td>\n",
              "      <td>...</td>\n",
              "      <td>0.0</td>\n",
              "      <td>0.0</td>\n",
              "      <td>0.0</td>\n",
              "      <td>0.0</td>\n",
              "      <td>0.0</td>\n",
              "      <td>0.0</td>\n",
              "      <td>0.0</td>\n",
              "      <td>0.0</td>\n",
              "      <td>0.0</td>\n",
              "      <td>0.0</td>\n",
              "    </tr>\n",
              "    <tr>\n",
              "      <th>3</th>\n",
              "      <td>0.0</td>\n",
              "      <td>0.0</td>\n",
              "      <td>0.0</td>\n",
              "      <td>0.0</td>\n",
              "      <td>0.0</td>\n",
              "      <td>0.0</td>\n",
              "      <td>0.0</td>\n",
              "      <td>0.0</td>\n",
              "      <td>0.0</td>\n",
              "      <td>0.0</td>\n",
              "      <td>...</td>\n",
              "      <td>0.0</td>\n",
              "      <td>0.0</td>\n",
              "      <td>0.0</td>\n",
              "      <td>0.0</td>\n",
              "      <td>0.0</td>\n",
              "      <td>0.0</td>\n",
              "      <td>0.0</td>\n",
              "      <td>0.0</td>\n",
              "      <td>0.0</td>\n",
              "      <td>0.0</td>\n",
              "    </tr>\n",
              "    <tr>\n",
              "      <th>4</th>\n",
              "      <td>0.0</td>\n",
              "      <td>0.0</td>\n",
              "      <td>0.0</td>\n",
              "      <td>0.0</td>\n",
              "      <td>0.0</td>\n",
              "      <td>0.0</td>\n",
              "      <td>0.0</td>\n",
              "      <td>0.0</td>\n",
              "      <td>0.0</td>\n",
              "      <td>0.0</td>\n",
              "      <td>...</td>\n",
              "      <td>0.0</td>\n",
              "      <td>0.0</td>\n",
              "      <td>0.0</td>\n",
              "      <td>0.0</td>\n",
              "      <td>0.0</td>\n",
              "      <td>0.0</td>\n",
              "      <td>0.0</td>\n",
              "      <td>0.0</td>\n",
              "      <td>0.0</td>\n",
              "      <td>0.0</td>\n",
              "    </tr>\n",
              "  </tbody>\n",
              "</table>\n",
              "<p>5 rows × 10000 columns</p>\n",
              "</div>\n",
              "      <button class=\"colab-df-convert\" onclick=\"convertToInteractive('df-2680774d-c79a-4a5e-b9c4-4913d3e6c707')\"\n",
              "              title=\"Convert this dataframe to an interactive table.\"\n",
              "              style=\"display:none;\">\n",
              "        \n",
              "  <svg xmlns=\"http://www.w3.org/2000/svg\" height=\"24px\"viewBox=\"0 0 24 24\"\n",
              "       width=\"24px\">\n",
              "    <path d=\"M0 0h24v24H0V0z\" fill=\"none\"/>\n",
              "    <path d=\"M18.56 5.44l.94 2.06.94-2.06 2.06-.94-2.06-.94-.94-2.06-.94 2.06-2.06.94zm-11 1L8.5 8.5l.94-2.06 2.06-.94-2.06-.94L8.5 2.5l-.94 2.06-2.06.94zm10 10l.94 2.06.94-2.06 2.06-.94-2.06-.94-.94-2.06-.94 2.06-2.06.94z\"/><path d=\"M17.41 7.96l-1.37-1.37c-.4-.4-.92-.59-1.43-.59-.52 0-1.04.2-1.43.59L10.3 9.45l-7.72 7.72c-.78.78-.78 2.05 0 2.83L4 21.41c.39.39.9.59 1.41.59.51 0 1.02-.2 1.41-.59l7.78-7.78 2.81-2.81c.8-.78.8-2.07 0-2.86zM5.41 20L4 18.59l7.72-7.72 1.47 1.35L5.41 20z\"/>\n",
              "  </svg>\n",
              "      </button>\n",
              "      \n",
              "  <style>\n",
              "    .colab-df-container {\n",
              "      display:flex;\n",
              "      flex-wrap:wrap;\n",
              "      gap: 12px;\n",
              "    }\n",
              "\n",
              "    .colab-df-convert {\n",
              "      background-color: #E8F0FE;\n",
              "      border: none;\n",
              "      border-radius: 50%;\n",
              "      cursor: pointer;\n",
              "      display: none;\n",
              "      fill: #1967D2;\n",
              "      height: 32px;\n",
              "      padding: 0 0 0 0;\n",
              "      width: 32px;\n",
              "    }\n",
              "\n",
              "    .colab-df-convert:hover {\n",
              "      background-color: #E2EBFA;\n",
              "      box-shadow: 0px 1px 2px rgba(60, 64, 67, 0.3), 0px 1px 3px 1px rgba(60, 64, 67, 0.15);\n",
              "      fill: #174EA6;\n",
              "    }\n",
              "\n",
              "    [theme=dark] .colab-df-convert {\n",
              "      background-color: #3B4455;\n",
              "      fill: #D2E3FC;\n",
              "    }\n",
              "\n",
              "    [theme=dark] .colab-df-convert:hover {\n",
              "      background-color: #434B5C;\n",
              "      box-shadow: 0px 1px 3px 1px rgba(0, 0, 0, 0.15);\n",
              "      filter: drop-shadow(0px 1px 2px rgba(0, 0, 0, 0.3));\n",
              "      fill: #FFFFFF;\n",
              "    }\n",
              "  </style>\n",
              "\n",
              "      <script>\n",
              "        const buttonEl =\n",
              "          document.querySelector('#df-2680774d-c79a-4a5e-b9c4-4913d3e6c707 button.colab-df-convert');\n",
              "        buttonEl.style.display =\n",
              "          google.colab.kernel.accessAllowed ? 'block' : 'none';\n",
              "\n",
              "        async function convertToInteractive(key) {\n",
              "          const element = document.querySelector('#df-2680774d-c79a-4a5e-b9c4-4913d3e6c707');\n",
              "          const dataTable =\n",
              "            await google.colab.kernel.invokeFunction('convertToInteractive',\n",
              "                                                     [key], {});\n",
              "          if (!dataTable) return;\n",
              "\n",
              "          const docLinkHtml = 'Like what you see? Visit the ' +\n",
              "            '<a target=\"_blank\" href=https://colab.research.google.com/notebooks/data_table.ipynb>data table notebook</a>'\n",
              "            + ' to learn more about interactive tables.';\n",
              "          element.innerHTML = '';\n",
              "          dataTable['output_type'] = 'display_data';\n",
              "          await google.colab.output.renderOutput(dataTable, element);\n",
              "          const docLink = document.createElement('div');\n",
              "          docLink.innerHTML = docLinkHtml;\n",
              "          element.appendChild(docLink);\n",
              "        }\n",
              "      </script>\n",
              "    </div>\n",
              "  </div>\n",
              "  "
            ]
          },
          "metadata": {},
          "execution_count": 20
        }
      ]
    },
    {
      "cell_type": "markdown",
      "source": [
        "Ogni riga del vettore rappresenta una riga del dataset, quindi una review, mentre ogni colonna rappresenta una parola del vocabolario contenente tutte le parole delle *review*. Ogni parola avrà un determinato *score* all'interno di una review che rappresenta la rilevanza di quella parola sia rispetto alla review, sia rispetto all'intero dataset."
      ],
      "metadata": {
        "id": "XdX07ss0XXYQ"
      }
    },
    {
      "cell_type": "markdown",
      "source": [
        "## **Training**\n",
        "Passiamo all'addestramento dei modelli. In particolare utilizzeremo tre algoritmi:\n",
        "\n",
        "\n",
        "*   [Random Forest](https://scikit-learn.org/stable/modules/generated/sklearn.ensemble.RandomForestClassifier.html)\n",
        "*   [Logistic Regression](https://scikit-learn.org/stable/modules/generated/sklearn.linear_model.LogisticRegression.html)\n",
        "*   [K Nearest Neighbor](https://scikit-learn.org/stable/modules/generated/sklearn.neighbors.KNeighborsClassifier.html)\n",
        "\n",
        "la cui implementazione è messa a disposizione dalla libreria scikit-learn.\n",
        "\n",
        "### **Random Forest training**"
      ],
      "metadata": {
        "id": "hnhBUhA8ej4A"
      }
    },
    {
      "cell_type": "code",
      "source": [
        "from sklearn.ensemble import RandomForestClassifier\n",
        "\n",
        "\n",
        "rf_model = RandomForestClassifier(random_state=42, n_jobs=-1)\n",
        "rf_model.fit(train_vectors, df_train['sentiment'])"
      ],
      "metadata": {
        "id": "BK9ri5YMetir",
        "colab": {
          "base_uri": "https://localhost:8080/",
          "height": 74
        },
        "outputId": "4a7abc38-fde4-4580-f548-9b6f7cc5d42c"
      },
      "execution_count": null,
      "outputs": [
        {
          "output_type": "execute_result",
          "data": {
            "text/plain": [
              "RandomForestClassifier(n_jobs=-1, random_state=42)"
            ],
            "text/html": [
              "<style>#sk-container-id-1 {color: black;background-color: white;}#sk-container-id-1 pre{padding: 0;}#sk-container-id-1 div.sk-toggleable {background-color: white;}#sk-container-id-1 label.sk-toggleable__label {cursor: pointer;display: block;width: 100%;margin-bottom: 0;padding: 0.3em;box-sizing: border-box;text-align: center;}#sk-container-id-1 label.sk-toggleable__label-arrow:before {content: \"▸\";float: left;margin-right: 0.25em;color: #696969;}#sk-container-id-1 label.sk-toggleable__label-arrow:hover:before {color: black;}#sk-container-id-1 div.sk-estimator:hover label.sk-toggleable__label-arrow:before {color: black;}#sk-container-id-1 div.sk-toggleable__content {max-height: 0;max-width: 0;overflow: hidden;text-align: left;background-color: #f0f8ff;}#sk-container-id-1 div.sk-toggleable__content pre {margin: 0.2em;color: black;border-radius: 0.25em;background-color: #f0f8ff;}#sk-container-id-1 input.sk-toggleable__control:checked~div.sk-toggleable__content {max-height: 200px;max-width: 100%;overflow: auto;}#sk-container-id-1 input.sk-toggleable__control:checked~label.sk-toggleable__label-arrow:before {content: \"▾\";}#sk-container-id-1 div.sk-estimator input.sk-toggleable__control:checked~label.sk-toggleable__label {background-color: #d4ebff;}#sk-container-id-1 div.sk-label input.sk-toggleable__control:checked~label.sk-toggleable__label {background-color: #d4ebff;}#sk-container-id-1 input.sk-hidden--visually {border: 0;clip: rect(1px 1px 1px 1px);clip: rect(1px, 1px, 1px, 1px);height: 1px;margin: -1px;overflow: hidden;padding: 0;position: absolute;width: 1px;}#sk-container-id-1 div.sk-estimator {font-family: monospace;background-color: #f0f8ff;border: 1px dotted black;border-radius: 0.25em;box-sizing: border-box;margin-bottom: 0.5em;}#sk-container-id-1 div.sk-estimator:hover {background-color: #d4ebff;}#sk-container-id-1 div.sk-parallel-item::after {content: \"\";width: 100%;border-bottom: 1px solid gray;flex-grow: 1;}#sk-container-id-1 div.sk-label:hover label.sk-toggleable__label {background-color: #d4ebff;}#sk-container-id-1 div.sk-serial::before {content: \"\";position: absolute;border-left: 1px solid gray;box-sizing: border-box;top: 0;bottom: 0;left: 50%;z-index: 0;}#sk-container-id-1 div.sk-serial {display: flex;flex-direction: column;align-items: center;background-color: white;padding-right: 0.2em;padding-left: 0.2em;position: relative;}#sk-container-id-1 div.sk-item {position: relative;z-index: 1;}#sk-container-id-1 div.sk-parallel {display: flex;align-items: stretch;justify-content: center;background-color: white;position: relative;}#sk-container-id-1 div.sk-item::before, #sk-container-id-1 div.sk-parallel-item::before {content: \"\";position: absolute;border-left: 1px solid gray;box-sizing: border-box;top: 0;bottom: 0;left: 50%;z-index: -1;}#sk-container-id-1 div.sk-parallel-item {display: flex;flex-direction: column;z-index: 1;position: relative;background-color: white;}#sk-container-id-1 div.sk-parallel-item:first-child::after {align-self: flex-end;width: 50%;}#sk-container-id-1 div.sk-parallel-item:last-child::after {align-self: flex-start;width: 50%;}#sk-container-id-1 div.sk-parallel-item:only-child::after {width: 0;}#sk-container-id-1 div.sk-dashed-wrapped {border: 1px dashed gray;margin: 0 0.4em 0.5em 0.4em;box-sizing: border-box;padding-bottom: 0.4em;background-color: white;}#sk-container-id-1 div.sk-label label {font-family: monospace;font-weight: bold;display: inline-block;line-height: 1.2em;}#sk-container-id-1 div.sk-label-container {text-align: center;}#sk-container-id-1 div.sk-container {/* jupyter's `normalize.less` sets `[hidden] { display: none; }` but bootstrap.min.css set `[hidden] { display: none !important; }` so we also need the `!important` here to be able to override the default hidden behavior on the sphinx rendered scikit-learn.org. See: https://github.com/scikit-learn/scikit-learn/issues/21755 */display: inline-block !important;position: relative;}#sk-container-id-1 div.sk-text-repr-fallback {display: none;}</style><div id=\"sk-container-id-1\" class=\"sk-top-container\"><div class=\"sk-text-repr-fallback\"><pre>RandomForestClassifier(n_jobs=-1, random_state=42)</pre><b>In a Jupyter environment, please rerun this cell to show the HTML representation or trust the notebook. <br />On GitHub, the HTML representation is unable to render, please try loading this page with nbviewer.org.</b></div><div class=\"sk-container\" hidden><div class=\"sk-item\"><div class=\"sk-estimator sk-toggleable\"><input class=\"sk-toggleable__control sk-hidden--visually\" id=\"sk-estimator-id-1\" type=\"checkbox\" checked><label for=\"sk-estimator-id-1\" class=\"sk-toggleable__label sk-toggleable__label-arrow\">RandomForestClassifier</label><div class=\"sk-toggleable__content\"><pre>RandomForestClassifier(n_jobs=-1, random_state=42)</pre></div></div></div></div></div>"
            ]
          },
          "metadata": {},
          "execution_count": 21
        }
      ]
    },
    {
      "cell_type": "markdown",
      "source": [
        "### **Logistic Regression training**"
      ],
      "metadata": {
        "id": "chPnxH1EaDYN"
      }
    },
    {
      "cell_type": "code",
      "source": [
        "from sklearn.linear_model import LogisticRegression\n",
        "\n",
        "\n",
        "lr_model = LogisticRegression(random_state=42, n_jobs=-1)\n",
        "lr_model.fit(train_vectors, df_train['sentiment'])"
      ],
      "metadata": {
        "colab": {
          "base_uri": "https://localhost:8080/",
          "height": 74
        },
        "id": "rC7D3d6-GGpg",
        "outputId": "a200ff40-6ac8-407d-d746-dd7c5d5fcf89"
      },
      "execution_count": null,
      "outputs": [
        {
          "output_type": "execute_result",
          "data": {
            "text/plain": [
              "LogisticRegression(n_jobs=-1, random_state=42)"
            ],
            "text/html": [
              "<style>#sk-container-id-2 {color: black;background-color: white;}#sk-container-id-2 pre{padding: 0;}#sk-container-id-2 div.sk-toggleable {background-color: white;}#sk-container-id-2 label.sk-toggleable__label {cursor: pointer;display: block;width: 100%;margin-bottom: 0;padding: 0.3em;box-sizing: border-box;text-align: center;}#sk-container-id-2 label.sk-toggleable__label-arrow:before {content: \"▸\";float: left;margin-right: 0.25em;color: #696969;}#sk-container-id-2 label.sk-toggleable__label-arrow:hover:before {color: black;}#sk-container-id-2 div.sk-estimator:hover label.sk-toggleable__label-arrow:before {color: black;}#sk-container-id-2 div.sk-toggleable__content {max-height: 0;max-width: 0;overflow: hidden;text-align: left;background-color: #f0f8ff;}#sk-container-id-2 div.sk-toggleable__content pre {margin: 0.2em;color: black;border-radius: 0.25em;background-color: #f0f8ff;}#sk-container-id-2 input.sk-toggleable__control:checked~div.sk-toggleable__content {max-height: 200px;max-width: 100%;overflow: auto;}#sk-container-id-2 input.sk-toggleable__control:checked~label.sk-toggleable__label-arrow:before {content: \"▾\";}#sk-container-id-2 div.sk-estimator input.sk-toggleable__control:checked~label.sk-toggleable__label {background-color: #d4ebff;}#sk-container-id-2 div.sk-label input.sk-toggleable__control:checked~label.sk-toggleable__label {background-color: #d4ebff;}#sk-container-id-2 input.sk-hidden--visually {border: 0;clip: rect(1px 1px 1px 1px);clip: rect(1px, 1px, 1px, 1px);height: 1px;margin: -1px;overflow: hidden;padding: 0;position: absolute;width: 1px;}#sk-container-id-2 div.sk-estimator {font-family: monospace;background-color: #f0f8ff;border: 1px dotted black;border-radius: 0.25em;box-sizing: border-box;margin-bottom: 0.5em;}#sk-container-id-2 div.sk-estimator:hover {background-color: #d4ebff;}#sk-container-id-2 div.sk-parallel-item::after {content: \"\";width: 100%;border-bottom: 1px solid gray;flex-grow: 1;}#sk-container-id-2 div.sk-label:hover label.sk-toggleable__label {background-color: #d4ebff;}#sk-container-id-2 div.sk-serial::before {content: \"\";position: absolute;border-left: 1px solid gray;box-sizing: border-box;top: 0;bottom: 0;left: 50%;z-index: 0;}#sk-container-id-2 div.sk-serial {display: flex;flex-direction: column;align-items: center;background-color: white;padding-right: 0.2em;padding-left: 0.2em;position: relative;}#sk-container-id-2 div.sk-item {position: relative;z-index: 1;}#sk-container-id-2 div.sk-parallel {display: flex;align-items: stretch;justify-content: center;background-color: white;position: relative;}#sk-container-id-2 div.sk-item::before, #sk-container-id-2 div.sk-parallel-item::before {content: \"\";position: absolute;border-left: 1px solid gray;box-sizing: border-box;top: 0;bottom: 0;left: 50%;z-index: -1;}#sk-container-id-2 div.sk-parallel-item {display: flex;flex-direction: column;z-index: 1;position: relative;background-color: white;}#sk-container-id-2 div.sk-parallel-item:first-child::after {align-self: flex-end;width: 50%;}#sk-container-id-2 div.sk-parallel-item:last-child::after {align-self: flex-start;width: 50%;}#sk-container-id-2 div.sk-parallel-item:only-child::after {width: 0;}#sk-container-id-2 div.sk-dashed-wrapped {border: 1px dashed gray;margin: 0 0.4em 0.5em 0.4em;box-sizing: border-box;padding-bottom: 0.4em;background-color: white;}#sk-container-id-2 div.sk-label label {font-family: monospace;font-weight: bold;display: inline-block;line-height: 1.2em;}#sk-container-id-2 div.sk-label-container {text-align: center;}#sk-container-id-2 div.sk-container {/* jupyter's `normalize.less` sets `[hidden] { display: none; }` but bootstrap.min.css set `[hidden] { display: none !important; }` so we also need the `!important` here to be able to override the default hidden behavior on the sphinx rendered scikit-learn.org. See: https://github.com/scikit-learn/scikit-learn/issues/21755 */display: inline-block !important;position: relative;}#sk-container-id-2 div.sk-text-repr-fallback {display: none;}</style><div id=\"sk-container-id-2\" class=\"sk-top-container\"><div class=\"sk-text-repr-fallback\"><pre>LogisticRegression(n_jobs=-1, random_state=42)</pre><b>In a Jupyter environment, please rerun this cell to show the HTML representation or trust the notebook. <br />On GitHub, the HTML representation is unable to render, please try loading this page with nbviewer.org.</b></div><div class=\"sk-container\" hidden><div class=\"sk-item\"><div class=\"sk-estimator sk-toggleable\"><input class=\"sk-toggleable__control sk-hidden--visually\" id=\"sk-estimator-id-2\" type=\"checkbox\" checked><label for=\"sk-estimator-id-2\" class=\"sk-toggleable__label sk-toggleable__label-arrow\">LogisticRegression</label><div class=\"sk-toggleable__content\"><pre>LogisticRegression(n_jobs=-1, random_state=42)</pre></div></div></div></div></div>"
            ]
          },
          "metadata": {},
          "execution_count": 22
        }
      ]
    },
    {
      "cell_type": "markdown",
      "source": [
        "### **K Nearest Neighbors training**"
      ],
      "metadata": {
        "id": "rlPbBAV7aM6d"
      }
    },
    {
      "cell_type": "code",
      "source": [
        "from sklearn.neighbors import KNeighborsClassifier\n",
        "\n",
        "\n",
        "knn_model = KNeighborsClassifier(n_jobs=-1)\n",
        "knn_model.fit(train_vectors, df_train['sentiment'])"
      ],
      "metadata": {
        "colab": {
          "base_uri": "https://localhost:8080/",
          "height": 74
        },
        "id": "Kj9nx3NgGHX6",
        "outputId": "7a68e36a-0002-406f-ba89-413f591871fe"
      },
      "execution_count": null,
      "outputs": [
        {
          "output_type": "execute_result",
          "data": {
            "text/plain": [
              "KNeighborsClassifier(n_jobs=-1)"
            ],
            "text/html": [
              "<style>#sk-container-id-3 {color: black;background-color: white;}#sk-container-id-3 pre{padding: 0;}#sk-container-id-3 div.sk-toggleable {background-color: white;}#sk-container-id-3 label.sk-toggleable__label {cursor: pointer;display: block;width: 100%;margin-bottom: 0;padding: 0.3em;box-sizing: border-box;text-align: center;}#sk-container-id-3 label.sk-toggleable__label-arrow:before {content: \"▸\";float: left;margin-right: 0.25em;color: #696969;}#sk-container-id-3 label.sk-toggleable__label-arrow:hover:before {color: black;}#sk-container-id-3 div.sk-estimator:hover label.sk-toggleable__label-arrow:before {color: black;}#sk-container-id-3 div.sk-toggleable__content {max-height: 0;max-width: 0;overflow: hidden;text-align: left;background-color: #f0f8ff;}#sk-container-id-3 div.sk-toggleable__content pre {margin: 0.2em;color: black;border-radius: 0.25em;background-color: #f0f8ff;}#sk-container-id-3 input.sk-toggleable__control:checked~div.sk-toggleable__content {max-height: 200px;max-width: 100%;overflow: auto;}#sk-container-id-3 input.sk-toggleable__control:checked~label.sk-toggleable__label-arrow:before {content: \"▾\";}#sk-container-id-3 div.sk-estimator input.sk-toggleable__control:checked~label.sk-toggleable__label {background-color: #d4ebff;}#sk-container-id-3 div.sk-label input.sk-toggleable__control:checked~label.sk-toggleable__label {background-color: #d4ebff;}#sk-container-id-3 input.sk-hidden--visually {border: 0;clip: rect(1px 1px 1px 1px);clip: rect(1px, 1px, 1px, 1px);height: 1px;margin: -1px;overflow: hidden;padding: 0;position: absolute;width: 1px;}#sk-container-id-3 div.sk-estimator {font-family: monospace;background-color: #f0f8ff;border: 1px dotted black;border-radius: 0.25em;box-sizing: border-box;margin-bottom: 0.5em;}#sk-container-id-3 div.sk-estimator:hover {background-color: #d4ebff;}#sk-container-id-3 div.sk-parallel-item::after {content: \"\";width: 100%;border-bottom: 1px solid gray;flex-grow: 1;}#sk-container-id-3 div.sk-label:hover label.sk-toggleable__label {background-color: #d4ebff;}#sk-container-id-3 div.sk-serial::before {content: \"\";position: absolute;border-left: 1px solid gray;box-sizing: border-box;top: 0;bottom: 0;left: 50%;z-index: 0;}#sk-container-id-3 div.sk-serial {display: flex;flex-direction: column;align-items: center;background-color: white;padding-right: 0.2em;padding-left: 0.2em;position: relative;}#sk-container-id-3 div.sk-item {position: relative;z-index: 1;}#sk-container-id-3 div.sk-parallel {display: flex;align-items: stretch;justify-content: center;background-color: white;position: relative;}#sk-container-id-3 div.sk-item::before, #sk-container-id-3 div.sk-parallel-item::before {content: \"\";position: absolute;border-left: 1px solid gray;box-sizing: border-box;top: 0;bottom: 0;left: 50%;z-index: -1;}#sk-container-id-3 div.sk-parallel-item {display: flex;flex-direction: column;z-index: 1;position: relative;background-color: white;}#sk-container-id-3 div.sk-parallel-item:first-child::after {align-self: flex-end;width: 50%;}#sk-container-id-3 div.sk-parallel-item:last-child::after {align-self: flex-start;width: 50%;}#sk-container-id-3 div.sk-parallel-item:only-child::after {width: 0;}#sk-container-id-3 div.sk-dashed-wrapped {border: 1px dashed gray;margin: 0 0.4em 0.5em 0.4em;box-sizing: border-box;padding-bottom: 0.4em;background-color: white;}#sk-container-id-3 div.sk-label label {font-family: monospace;font-weight: bold;display: inline-block;line-height: 1.2em;}#sk-container-id-3 div.sk-label-container {text-align: center;}#sk-container-id-3 div.sk-container {/* jupyter's `normalize.less` sets `[hidden] { display: none; }` but bootstrap.min.css set `[hidden] { display: none !important; }` so we also need the `!important` here to be able to override the default hidden behavior on the sphinx rendered scikit-learn.org. See: https://github.com/scikit-learn/scikit-learn/issues/21755 */display: inline-block !important;position: relative;}#sk-container-id-3 div.sk-text-repr-fallback {display: none;}</style><div id=\"sk-container-id-3\" class=\"sk-top-container\"><div class=\"sk-text-repr-fallback\"><pre>KNeighborsClassifier(n_jobs=-1)</pre><b>In a Jupyter environment, please rerun this cell to show the HTML representation or trust the notebook. <br />On GitHub, the HTML representation is unable to render, please try loading this page with nbviewer.org.</b></div><div class=\"sk-container\" hidden><div class=\"sk-item\"><div class=\"sk-estimator sk-toggleable\"><input class=\"sk-toggleable__control sk-hidden--visually\" id=\"sk-estimator-id-3\" type=\"checkbox\" checked><label for=\"sk-estimator-id-3\" class=\"sk-toggleable__label sk-toggleable__label-arrow\">KNeighborsClassifier</label><div class=\"sk-toggleable__content\"><pre>KNeighborsClassifier(n_jobs=-1)</pre></div></div></div></div></div>"
            ]
          },
          "metadata": {},
          "execution_count": 23
        }
      ]
    },
    {
      "cell_type": "markdown",
      "source": [
        "## **Test dei modelli addestrati**\n",
        "Una volta addestrato il modello è importante valutare il suo comportamento di fronte a dei dati che non ha mai visto prima.\n",
        "\n",
        "Di seguito definiamo due funzioni, una che applica il modello ai dati di test e calcola le **metriche** sui risultati ottenuti e una che, a partire dalle risposte del modello va a costruite e visualizzare la **matrice di confusione**; queste funzioni verranno richiamate per ogni modello.\n",
        "\n",
        "Le metriche che andremo a valutare sono:\n",
        "\n",
        "\n",
        "*   Accuracy\n",
        "*   Recall\n",
        "*   Precision\n",
        "*   F1-score"
      ],
      "metadata": {
        "id": "uBYc6kFIeunN"
      }
    },
    {
      "cell_type": "code",
      "source": [
        "from sklearn.metrics import confusion_matrix\n",
        "from sklearn.metrics import accuracy_score,precision_score,recall_score, f1_score\n",
        "\n",
        "\n",
        "def plot_confusion_matrix(y_test, y_pred, labels):\n",
        "  cf_matrix = confusion_matrix(y_test, y_pred, labels=labels) # calcolo della matrice di confusione\n",
        "  # _, ax = plt.figure(figsize = (5,4))\n",
        "  _, ax = plt.subplots(figsize = (5,4))\n",
        "  ax.tick_params(top=True, labeltop=True, bottom=False, labelbottom=False)\n",
        "  sns.heatmap(cf_matrix, annot=True, xticklabels=labels, yticklabels=labels, ax=ax, fmt='d', cmap=\"Blues\")\n",
        "\n",
        "\n",
        "def model_evaluation(model, test_vec, y_test):\n",
        "  y_pred = model.predict(test_vec) # predizioni del modello\n",
        "  y_test = df_test['sentiment']\n",
        "\n",
        "  # calcolo metriche\n",
        "  accuracy = round(accuracy_score(y_test, y_pred), 2)\n",
        "  precision = round(precision_score(y_test, y_pred, pos_label='positive'), 2)\n",
        "  recall = round(recall_score(y_test, y_pred, pos_label='positive'), 2)\n",
        "  f1 = round(f1_score(y_test,y_pred, pos_label='positive'), 2)\n",
        "\n",
        "  print(\"\\n---------------------------------\\n\")\n",
        "  print(\"Metrics\\n\")\n",
        "  print(\"Accuracy: \", accuracy)\n",
        "  print(\"Precision: \", precision)\n",
        "  print(\"Recall: \", recall)\n",
        "  print(\"F1_score: \", f1)\n",
        "  print(\"\\n---------------------------------\\n\")\n",
        "\n",
        "  print(\"Confusion matrix\")\n",
        "  plot_confusion_matrix(y_test, y_pred, sorted(list(model.classes_), reverse=True))\n"
      ],
      "metadata": {
        "id": "ActxAamRewwD"
      },
      "execution_count": null,
      "outputs": []
    },
    {
      "cell_type": "markdown",
      "source": [
        "### **Random Forest evaluation**"
      ],
      "metadata": {
        "id": "faZ35KQZAPng"
      }
    },
    {
      "cell_type": "code",
      "source": [
        "print(\"Random Forest results\")\n",
        "model_evaluation(rf_model, test_vectors, df_test['sentiment'])"
      ],
      "metadata": {
        "colab": {
          "base_uri": "https://localhost:8080/",
          "height": 508
        },
        "id": "yy8q0hMOBiFZ",
        "outputId": "032209c8-6e5c-4541-963f-496f68ab26aa"
      },
      "execution_count": null,
      "outputs": [
        {
          "output_type": "stream",
          "name": "stdout",
          "text": [
            "Random Forest results\n",
            "\n",
            "---------------------------------\n",
            "\n",
            "Metrics\n",
            "\n",
            "Accuracy:  0.86\n",
            "Precision:  0.87\n",
            "Recall:  0.84\n",
            "F1_score:  0.86\n",
            "\n",
            "---------------------------------\n",
            "\n",
            "Confusion matrix\n"
          ]
        },
        {
          "output_type": "display_data",
          "data": {
            "text/plain": [
              "<Figure size 360x288 with 2 Axes>"
            ],
            "image/png": "[encoded data removed]"
          },
          "metadata": {
            "needs_background": "light"
          }
        }
      ]
    },
    {
      "cell_type": "markdown",
      "source": [
        "### **Logistic Regression evaluation**\n"
      ],
      "metadata": {
        "id": "HdqE7MB8AZGt"
      }
    },
    {
      "cell_type": "code",
      "source": [
        "print(\"Logistic Regression results\")\n",
        "model_evaluation(lr_model, test_vectors, df_test['sentiment'])"
      ],
      "metadata": {
        "colab": {
          "base_uri": "https://localhost:8080/",
          "height": 513
        },
        "id": "xVNhn2qHnpes",
        "outputId": "e3f12ced-69dc-404c-c746-409d1e96fb03"
      },
      "execution_count": null,
      "outputs": [
        {
          "output_type": "stream",
          "name": "stdout",
          "text": [
            "Logistic Regression results\n",
            "\n",
            "---------------------------------\n",
            "\n",
            "Metrics\n",
            "\n",
            "Accuracy:  0.9\n",
            "Precision:  0.89\n",
            "Recall:  0.91\n",
            "F1_score:  0.9\n",
            "\n",
            "---------------------------------\n",
            "\n",
            "Confusion matrix\n"
          ]
        },
        {
          "output_type": "display_data",
          "data": {
            "text/plain": [
              "<Figure size 360x288 with 2 Axes>"
            ],
            "image/png": "[encoded data removed]"
          },
          "metadata": {
            "needs_background": "light"
          }
        }
      ]
    },
    {
      "cell_type": "markdown",
      "source": [
        "### **K Nearest Neighbors evaluation**\n"
      ],
      "metadata": {
        "id": "cmemC8smAeIZ"
      }
    },
    {
      "cell_type": "code",
      "source": [
        "print(\"K Nearest Neighbors\")\n",
        "model_evaluation(knn_model, test_vectors, df_test['sentiment'])"
      ],
      "metadata": {
        "id": "YWQXrbbGnp-k",
        "colab": {
          "base_uri": "https://localhost:8080/",
          "height": 508
        },
        "outputId": "718d7561-683f-4a57-a2d9-7f8750e6c1f3"
      },
      "execution_count": null,
      "outputs": [
        {
          "output_type": "stream",
          "name": "stdout",
          "text": [
            "K Nearest Neighbors\n",
            "\n",
            "---------------------------------\n",
            "\n",
            "Metrics\n",
            "\n",
            "Accuracy:  0.76\n",
            "Precision:  0.72\n",
            "Recall:  0.83\n",
            "F1_score:  0.77\n",
            "\n",
            "---------------------------------\n",
            "\n",
            "Confusion matrix\n"
          ]
        },
        {
          "output_type": "display_data",
          "data": {
            "text/plain": [
              "<Figure size 360x288 with 2 Axes>"
            ],
            "image/png": "[encoded data removed]"
          },
          "metadata": {
            "needs_background": "light"
          }
        }
      ]
    },
    {
      "cell_type": "markdown",
      "source": [
        "Come possiamo vedere dai risultati, il modello che lavora meglio su questi dati è la **Logistic Regression**.\n",
        "\n",
        "E' importante considerare che l'addestramento dei modelli è stato fatto\n",
        "utilizzando i parametri di default di ogni modello per semplicità.\n",
        "\n",
        "Una fase molto importante del processo di costruzione di un modello NLP è il **tuning** dei parametri dell'algoritmo: si provano diverse combinazioni di parametri e si valutano i risultati per ogni combinazione, al fine di scegliere la configurazione che consente al modello di imparare meglio.\n",
        "\n",
        "Esistono diverse tecniche per effettuare il tuning dei parametri di un algoritmo di apprendimento, per i più curiosi lascio il link alla pagina di [sklearn](https://scikit-learn.org/stable/modules/grid_search.html#tuning-the-hyper-parameters-of-an-estimator) in cui ne vengono illustrate alcune."
      ],
      "metadata": {
        "id": "kPhwNopOF0cY"
      }
    },
    {
      "cell_type": "markdown",
      "source": [
        "## **Try it out**\n",
        "Ora che abbiamo addestrato i vari modelli e scelto quello che performa meglio, andiamo a provarlo insieme!"
      ],
      "metadata": {
        "id": "rmqAu9mwHsc0"
      }
    },
    {
      "cell_type": "code",
      "source": [
        "# Insert a review\n",
        "new_review = \"I don't like this film!\"\n",
        "cleaned_review = clean_text(new_review)\n",
        "\n",
        "review_vect = vectorizer.transform([cleaned_review]) # text vectorization\n",
        "prediction = lr_model.predict(review_vect)[0] # model prediction\n",
        "\n",
        "prediction"
      ],
      "metadata": {
        "id": "H4OgP6pWaieW"
      },
      "execution_count": null,
      "outputs": []
    }
  ]
}